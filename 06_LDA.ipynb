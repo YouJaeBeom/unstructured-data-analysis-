{
 "cells": [
  {
   "cell_type": "markdown",
   "metadata": {},
   "source": [
    "# 1. Preprocessing"
   ]
  },
  {
   "cell_type": "markdown",
   "metadata": {},
   "source": [
    "1. Load documents"
   ]
  },
  {
   "cell_type": "markdown",
   "metadata": {},
   "source": [
    "English"
   ]
  },
  {
   "cell_type": "code",
   "execution_count": 1,
   "metadata": {},
   "outputs": [],
   "source": [
    "from nltk.corpus import reuters\n",
    "docs_en = [reuters.words(i) for i in reuters.fileids()]"
   ]
  },
  {
   "cell_type": "markdown",
   "metadata": {},
   "source": [
    "Korean"
   ]
  },
  {
   "cell_type": "code",
   "execution_count": 6,
   "metadata": {},
   "outputs": [],
   "source": [
    "from konlpy.corpus import kobill\n",
    "docs_ko = [kobill.open(i).read() for i in kobill.fileids()]"
   ]
  },
  {
   "cell_type": "markdown",
   "metadata": {},
   "source": [
    "2. Tokenize"
   ]
  },
  {
   "cell_type": "markdown",
   "metadata": {},
   "source": [
    "English"
   ]
  },
  {
   "cell_type": "code",
   "execution_count": 7,
   "metadata": {},
   "outputs": [
    {
     "name": "stdout",
     "output_type": "stream",
     "text": [
      "['ASIAN', 'EXPORTERS', 'FEAR', 'DAMAGE', 'FROM', 'U', ...]\n"
     ]
    }
   ],
   "source": [
    "texts_en = docs_en # because we loaded tokenized documents in step 1\n",
    "print(texts_en[0])"
   ]
  },
  {
   "cell_type": "markdown",
   "metadata": {},
   "source": [
    "Korean"
   ]
  },
  {
   "cell_type": "code",
   "execution_count": 8,
   "metadata": {},
   "outputs": [
    {
     "name": "stdout",
     "output_type": "stream",
     "text": [
      "['지방공무원법/Noun', '일부/Noun', '개정/Noun', '법률/Noun', '안/Noun', '\\n\\n/Foreign', '(/Punctuation', '정의화/Noun', '의원/Noun', '대표/Noun', '발의/Noun', ')/Punctuation', '\\n\\n /Foreign', '의/Noun', '안/Noun', '\\n /Foreign', '번/Noun', '호/Noun', '\\n\\n/Foreign', '9890/Number', '\\n\\n/Foreign', '발의/Noun', '연월일/Noun', ':/Punctuation', '2010/Number', './Punctuation', '11/Number', './Punctuation', '12/Number', './Punctuation', '발/Noun', '의/Noun', '자/Noun', ':/Punctuation', '정의화/Noun', '․/Foreign', '이명수/Noun', '․/Foreign', '김을동/Noun', '이사철/Noun', '․/Foreign', '여상규/Noun', '․/Foreign', '안규백/Noun', '\\n\\n/Foreign', '황영철/Noun', '․/Foreign', '박영아/Noun', '․/Foreign', '김정훈/Noun', '\\n\\n/Foreign', '김학송/Noun', '의원/Noun', '(/Punctuation', '10/Number', '인/Noun', ')/Punctuation', '\\n\\n/Foreign', '제안/Noun', '이유/Noun', '및/Noun', '주요/Modifier', '내용/Noun', '\\n\\n  /Foreign', '초등학교/Noun', '저학년/Noun', '의/Josa', '경우/Noun', '에도/Josa', '부모/Noun', '의/Josa', '따뜻하다/Adjective', '사랑/Noun', '과/Josa', '보살피다/Verb', '필요/Noun', '\\n\\n/Foreign', '하다/Verb', '나이/Noun', '이나/Josa', ',/Punctuation', '현재/Noun', '공무원/Noun', '이/Josa', '자녀/Noun', '를/Josa', '양육/Noun', '하다/Verb', '위/Noun', '하다/Verb', '육아휴직/Noun', '을/Josa', '하다/Verb', '수/Noun', '있다/Adjective', '자녀/Noun', '의/Josa', '나이/Noun', '는/Josa', '만/Noun', '6/Number', '세/Noun', '이하/Noun', '로/Josa', '되어다/Verb', '있다/Adjective', '초등학교/Noun', '저학년/Noun', '인/Josa', '자녀/Noun', '를/Josa', '돌보다/Verb', '위/Noun', '하다/Verb', '해당/Noun', '부모님/Noun', '은/Josa', '일자리/Noun', '를/Josa', '그만/Adverb', '두다/Verb', '하다/Verb', '이다/Verb', '곧/Noun', '출산/Noun', '의욕/Noun', '을/Josa', '저하/Noun', '시키다/Verb', '문제/Noun', '로/Josa', '이어지다/Verb', '수/Noun', '있다/Adjective', '것임/Noun', './Punctuation', '\\n\\n  /Foreign', '따라서/Noun', '육아휴직/Noun', '이/Josa', '가능하다/Adjective', '자녀/Noun', '의/Josa', '연령/Noun', '을/Josa', '만/Noun', '8/Number', '세/Noun', '이하/Noun', '로/Josa', '개정/Noun', '하다/Verb', '\\n\\n/Foreign', '늘다/Verb', '것임/Noun', '(/Punctuation', '안/Noun', '제/Noun', '63조/Number', '제/Foreign', '2/Number', '항제/Noun', '4/Number', '호/Noun', ')./Punctuation', '\\n\\n/Foreign', '-/Punctuation', '1/Number', '-/Punctuation', '\\n\\n\\x0c/Foreign', '법률/Noun', '제/Noun', '호/Noun', '\\n\\n/Foreign', '지방공무원법/Noun', '일부/Noun', '개정/Noun', '법률/Noun', '안/Noun', '\\n\\n/Foreign', '지방공무원법/Noun', '일부/Noun', '를/Josa', '다음/Noun', '과/Josa', '같이/Adverb', '개정/Noun', '하다/Verb', './Punctuation', '\\n\\n/Foreign', '제/Noun', '63조/Number', '제/Foreign', '2/Number', '항제/Noun', '4/Number', '호/Noun', '중/Noun', '“/Foreign', '만/Noun', '6/Number', '세/Noun', '이하/Noun', '의/Josa', '초등학교/Noun', '취학/Noun', '전/Noun', '자녀/Noun', '를/Josa', '”/Foreign', '을/Josa', '“/Foreign', '만/Noun', '8/Number', '세/Noun', '이하/Noun', '(/Punctuation', '취학/Noun', '중인/Noun', '경우/Noun', '에는/Josa', '초등학교/Noun', '2/Number', '학년/Noun', '이하/Noun', '를/Josa', '말/Noun', '하다/Verb', ')/Punctuation', '의/Noun', '자녀/Noun', '를/Josa', '”/Foreign', '\\n\\n/Foreign', '로/Noun', '하다/Verb', './Punctuation', '\\n\\n/Foreign', '부/Noun', '칙/Noun', '\\n\\n/Foreign', '이/Noun', '법/Noun', '은/Josa', '공포/Noun', '한/Josa', '날/Noun', '부터/Josa', '시행/Noun', '하다/Verb', './Punctuation', '\\n\\n/Foreign', '-/Punctuation', '3/Number', '-/Punctuation', '\\n\\n\\x0c/Foreign', '신/Noun', '·/Punctuation', '구조/Noun', '문대비/Noun', '표/Noun', '\\n\\n/Foreign', '현/Noun', '행/Noun', '\\n\\n/Foreign', '개/Noun', '정/Noun', '안/Noun', '\\n\\n/Foreign', '제/Noun', '63조/Number', '(/Punctuation', '휴직/Noun', ')/Punctuation', '①/Foreign', '(/Punctuation', '생/Noun', '략/Noun', ')/Punctuation', '\\n\\n/Foreign', '제/Noun', '63조/Number', '(/Punctuation', '휴직/Noun', ')/Punctuation', '①/Foreign', '(/Punctuation', '현행/Noun', '과/Josa', '같다/Adjective', ')/Punctuation', '\\n\\n  /Foreign', '②/Foreign', '공무원/Noun', '이/Josa', '다음/Noun', '각/Noun', '호의/Noun', '어/Eomi', '\\n\\n  /Foreign', '②/Foreign', '-------------------------/Punctuation', '\\n\\n/Foreign', '느/Noun', '하나/Noun', '에/Josa', '해당/Noun', '하다/Verb', '사유/Noun', '로/Josa', '휴/Exclamation', '\\n\\n/Foreign', '----------------------------/Punctuation', '\\n\\n/Foreign', '직/Noun', '을/Josa', '원하다/Adjective', '임용/Noun', '권/Suffix', '자다/Verb', '휴직/Noun', '\\n\\n/Foreign', '----------------------------/Punctuation', '\\n\\n/Foreign', '을/Josa', '명/Noun', '하다/Verb', '수/Noun', '있다/Adjective', './Punctuation', '다만/Noun', ',/Punctuation', '제/Noun', '4/Number', '호/Noun', '\\n\\n/Foreign', '-------------.---------------/Punctuation', '\\n\\n/Foreign', '의/Noun', '경우/Noun', '에는/Josa', '대통령령/Noun', '으로/Josa', '정/Noun', '\\n\\n/Foreign', '----------------------------/Punctuation', '\\n\\n/Foreign', '하다/Verb', '특별하다/Adjective', '사정/Noun', '이/Josa', '없다/Adjective', '휴/Exclamation', '\\n\\n/Foreign', '----------------------------/Punctuation', '\\n\\n/Foreign', '직/Noun', '을/Josa', '명/Noun', '하다/Verb', '하다/Verb', './Punctuation', '\\n\\n/Foreign', '--------------./Punctuation', '\\n\\n  /Foreign', '1/Number', './Punctuation', '∼/Foreign', '3/Number', './Punctuation', '(/Punctuation', '생/Noun', '략/Noun', ')/Punctuation', '\\n\\n  /Foreign', '1/Number', './Punctuation', '∼/Foreign', '3/Number', './Punctuation', '(/Punctuation', '현행/Noun', '과/Josa', '같다/Adjective', ')/Punctuation', '\\n\\n  /Foreign', '4/Number', './Punctuation', '만/Noun', '6/Number', '세/Noun', '이하/Noun', '의/Josa', '초등학교/Noun', '취/Noun', '\\n\\n  /Foreign', '4/Number', './Punctuation', '만/Noun', '8/Number', '세/Noun', '이하/Noun', '(/Punctuation', '취학/Noun', '중인/Noun', '경우/Noun', '\\n\\n/Foreign', '학/Noun', '전/Noun', '자녀/Noun', '를/Josa', '양육/Noun', '하다/Verb', '위/Noun', '하/Suffix', '\\n\\n/Foreign', '에는/Josa', '초등학교/Noun', '2/Number', '학년/Noun', '이하/Noun', '를/Josa', '여/Noun', '필요하다/Adjective', '여자/Noun', '공무원/Noun', '이/Josa', '말/Noun', '하다/Verb', ')/Punctuation', '의/Noun', '자녀/Noun', '를/Josa', '----------/Punctuation', '\\n\\n/Foreign', '임신/Noun', '또는/Adverb', '출산/Noun', '하다/Verb', '되어다/Verb', '---------------------------/Punctuation', '\\n\\n/Foreign', '때/Noun', '\\n\\n/Foreign', '---------------------------/Punctuation', '\\n\\n  /Foreign', '5/Number', './Punctuation', '⋅/Foreign', '6/Number', './Punctuation', '(/Punctuation', '생/Noun', '략/Noun', ')/Punctuation', '\\n\\n  /Foreign', '③⋅④/Foreign', '(/Punctuation', '생/Noun', '략/Noun', ')/Punctuation', '\\n\\n/Foreign', '--------/Punctuation', '\\n\\n  /Foreign', '5/Number', './Punctuation', '⋅/Foreign', '6/Number', './Punctuation', '(/Punctuation', '현행/Noun', '과/Josa', '같다/Adjective', ')/Punctuation', '\\n\\n  /Foreign', '③⋅④/Foreign', '(/Punctuation', '현행/Noun', '과/Josa', '같다/Adjective', ')/Punctuation', '\\n\\n/Foreign', '-/Punctuation', '5/Number', '-/Punctuation', '\\n\\n\\x0c/Foreign', '지방공무원법/Noun', '일부/Noun', '개정/Noun', '법률/Noun', '안/Noun', '등/Noun', '비용/Noun', '추계/Noun', '서/Josa', '밉다/Adjective', '첨부/Noun', '사유/Noun', '서/Josa', '\\n/Foreign', '1/Number', './Punctuation', '재정/Noun', '수/Modifier', '반/Modifier', '요인/Noun', '\\n\\n/Foreign', '개정안/Noun', '에서/Josa', '｢/Foreign', '국가공무원/Noun', '법/Noun', '｣/Foreign', '제/Noun', '71조/Number', '제/Foreign', '2/Number', '항제/Noun', '4/Number', '호/Noun', '중/Noun', '국가공무원/Noun', '의/Josa', '육아/Noun', '\\n\\n/Foreign', '휴직/Noun', '가능/Noun', '자녀/Noun', '의/Josa', '연령/Noun', '을/Josa', '만/Noun', '6/Number', '세/Noun', '이하/Noun', '에서/Josa', '만/Noun', '8/Number', '세/Noun', '이하/Noun', '로/Josa', '하다/Verb', ',/Punctuation', '｢/Foreign', '지/Modifier', '방공/Noun', '\\n\\n/Foreign', '무/Noun', '원/Modifier', '법/Noun', '｣/Foreign', '제/Noun', '63조/Number', '제/Foreign', '2/Number', '항제/Noun', '4/Number', '호/Noun', '중/Noun', '지방/Noun', '공무원/Noun', '의/Josa', '육아휴직/Noun', '가능/Noun', '자녀/Noun', '의/Josa', '연/Noun', '\\n\\n/Foreign', '령/Noun', '을/Josa', '만/Noun', '6/Number', '세/Noun', '이하/Noun', '에서/Josa', '만/Noun', '8/Number', '세/Noun', '이하/Noun', '로/Josa', '하다/Verb', ',/Punctuation', '｢/Foreign', '교육/Noun', '공무원/Noun', '법/Noun', '｣/Foreign', '제/Noun', '44조/Number', '제/Foreign', '1/Number', '항/Noun', '\\n\\n/Foreign', '제/Noun', '7조/Number', '중/Noun', '교육/Noun', '공무원/Noun', '의/Josa', '육아휴직/Noun', '가능/Noun', '자녀/Noun', '의/Josa', '연령/Noun', '을/Josa', '만/Noun', '6/Number', '세/Noun', '이하/Noun', '에서/Josa', '만/Noun', '8/Number', '세/Noun', '이하/Noun', '로/Josa', '하다/Verb', ',/Punctuation', '｢/Foreign', '남녀/Noun', '고용/Noun', '평등/Noun', '과/Josa', '일/Noun', '․/Foreign', '가정/Noun', '양립/Noun', '지원/Noun', '에/Josa', '관/Noun', '한/Josa', '법률/Noun', '｣/Foreign', '제/Noun', '19조/Number', '제/Foreign', '1/Number', '항/Noun', '중/Noun', '근로자/Noun', '육아휴직/Noun', '가능/Noun', '자녀/Noun', '연령/Noun', '을/Josa', '만/Noun', '6/Number', '세/Noun', '이하/Noun', '에서/Josa', '만/Noun', '\\n\\n/Foreign', '8/Number', '세/Noun', '이하/Noun', '로/Josa', '조정/Noun', '함/Noun', '에/Josa', '따르다/Verb', '추가/Noun', '재정/Noun', '소/Modifier', '요가/Noun', '예상/Noun', '되다/Verb', './Punctuation', '\\n\\n/Foreign', '2/Number', './Punctuation', '밉다/Adjective', '첨부/Noun', '근거/Noun', '규정/Noun', '\\n/Foreign', '｢/Foreign', '의안/Noun', '의/Josa', '비용/Noun', '추계/Noun', '에/Josa', '관/Noun', '한/Josa', '규칙/Noun', '｣/Foreign', '제/Noun', '3조/Number', '제/Foreign', '1/Number', '항/Noun', '단서/Noun', '중/Noun', '제/Noun', '1/Number', '호/Noun', '(/Punctuation', '예상/Noun', '되다/Verb', '비용/Noun', '이/Josa', '연/Modifier', '평균/Noun', '10억원/Number', '미만/Noun', '\\n/Foreign', '이/Determiner', '거나/Noun', '한시/Noun', '적/Suffix', '인/Josa', '경비/Noun', '로서/Noun', '총/Noun', '30억원/Number', '미만/Noun', '인/Josa', '경우/Noun', ')/Punctuation', '에/Josa', '해당/Noun', '함/Noun', './Punctuation', '\\n\\n/Foreign', '3/Number', './Punctuation', '밉다/Adjective', '첨부/Noun', '사유/Noun', '\\n\\n/Foreign', '개정안/Noun', '에서/Josa', '국가/Noun', '․/Foreign', '지방/Noun', '․/Foreign', '교육/Noun', '공무원/Noun', '및/Noun', '근로자/Noun', '가/Josa', '육아휴직/Noun', '을/Josa', '신청/Noun', '하다/Verb', '수/Noun', '있다/Adjective', '자녀/Noun', '의/Josa', '연령/Noun', '을/Josa', '만/Noun', '6/Number', '세/Noun', '이하/Noun', '에서/Josa', '만/Noun', '8/Number', '세/Noun', '이하/Noun', '로/Josa', '상향/Noun', '조정/Noun', '함/Noun', '에/Josa', '따르다/Verb', '추가/Noun', '재정/Noun', '소/Modifier', '요가/Noun', '예상/Noun', '되다/Verb', './Punctuation', '동/Modifier', '법률/Noun', '개정안/Noun', '이/Josa', '2011년/Number', '에/Foreign', '시행/Noun', '되다/Verb', '\\n\\n/Foreign', '고/Noun', '가정/Noun', '한/Josa', '경우/Noun', ',/Punctuation', '2010년/Number', '현재/Noun', '자녀/Noun', '의/Josa', '연령/Noun', '이/Josa', '7/Number', '세이/Noun', '고/Josa', '육아휴직/Noun', '을/Josa', '신청/Noun', '\\n\\n/Foreign', '-/Punctuation', '7/Number', '-/Punctuation', '\\n\\n\\x0c/Foreign', '-/Punctuation', '8/Number', '-/Punctuation', '\\n\\n/Foreign', '하다/Verb', '않다/Verb', '국가/Noun', '․/Foreign', '지방/Noun', '․/Foreign', '교육/Noun', '공무원/Noun', '및/Noun', '근로자/Noun', '가/Josa', '대상/Noun', '이/Josa', '되다/Verb', './Punctuation', '\\n\\n/Foreign', '대상/Noun', '연령/Noun', '의/Josa', '확대/Noun', '되다/Verb', '따르다/Verb', '육아휴직/Noun', '신청/Noun', '자/Suffix', '의/Josa', '수가/Noun', '어느/Adverb', '정도/Noun', '늘어나다/Verb', '것/Noun', '으로/Josa', '예상/Noun', '되다/Verb', './Punctuation', '이/Noun', '경우/Noun', '발생/Noun', '하다/Verb', '비용/Noun', '은/Josa', '현행법/Noun', '에/Josa', '따르다/Verb', '월/Noun', '50만원/Number', '\\n\\n/Foreign', '이나/Noun', '현재/Noun', '관련/Noun', '법령/Noun', '개정/Noun', '이/Josa', '추진/Noun', '되다/Verb', '있다/Adjective', ',/Punctuation', '이/Noun', '에/Josa', '따르다/Verb', '2011년/Number', '에는/Foreign', '육아휴직/Noun', '자/Suffix', '가/Josa', '지급/Noun', '받다/Verb', '월급/Noun', '여/Josa', '액/Noun', '에/Josa', '비례/Noun', '하다/Verb', '육아휴직/Noun', '급/Suffix', '여가/Noun', '지급/Noun', '되다/Verb', '\\n\\n/Foreign', '기/Noun', '때문/Noun', '에/Josa', '법령/Noun', '개정/Noun', '을/Josa', '가정/Noun', '하고/Josa', '추계/Noun', '한/Josa', '다/Adverb', './Punctuation', '이러하다/Adjective', '경우/Noun', '육아휴직/Noun', '급여/Noun', '\\n\\n/Foreign', '액/Noun', '은/Josa', '육아휴직/Noun', '자/Suffix', '가/Josa', '지급/Noun', '받다/Verb', '월급/Noun', '여의/Noun', '40%/Number', '에/Josa', '해당/Noun', '한/Josa', '다/Adverb', './Punctuation', '육아휴직/Noun', '자/Suffix', '가/Josa', '발생/Noun', '한/Josa', '경우/Noun', '발생/Noun', '하다/Verb', '비용/Noun', '은/Josa', '대/Modifier', '체인/Noun', '력/Suffix', '고용/Noun', '인건비/Noun', '와/Josa', '육아휴직/Noun', '자/Suffix', '가/Josa', '받다/Verb', '월급/Noun', '여/Josa', '액/Noun', '의/Josa', '40%/Number', '이다/Josa', './Punctuation', '이/Noun', '와/Josa', '대비/Noun', '하다/Verb', '육아휴직/Noun', '자/Suffix', '에게/Josa', '지급/Noun', '하다/Verb', '임금/Noun', '은/Josa', '더/Noun', '이상/Noun', '발생/Noun', '하다/Verb', '않다/Verb', './Punctuation', '따라서/Noun', '실제/Noun', '발생/Noun', '하다/Verb', '순/Modifier', '비용/Noun', '은/Josa', '육/Noun', '\\n\\n/Foreign', '아/Exclamation', '휴직/Noun', '자/Suffix', '에게/Josa', '지급/Noun', '하다/Verb', '월/Noun', '급여/Noun', '액/Noun', '과/Josa', '연령/Noun', '확대/Noun', '에/Josa', '따르다/Verb', '발생/Noun', '하다/Verb', '비용/Noun', '\\n\\n/Foreign', '인/Noun', '육아휴직/Noun', '자/Suffix', '가/Josa', '받다/Verb', '월급/Noun', '여/Josa', '액/Noun', '의/Josa', '40%/Number', '오다/Verb', '대/Modifier', '체인/Noun', '력/Suffix', '고용/Noun', '인건비/Noun', '의/Josa', '차/Noun', '\\n\\n/Foreign', '액/Noun', '인데/Josa', '이/Noun', '값/Noun', '이/Josa', '0/Number', '보다/Verb', '크다/Verb', '추가/Noun', '재정/Noun', '소요/Noun', '는/Josa', '발생/Noun', '하다/Verb', '않다/Verb', '볼/Noun', '수/Noun', '있다/Adjective', './Punctuation', '\\n\\n/Foreign', '추가/Noun', '비용/Noun', '발생/Noun', '여부/Noun', '를/Josa', '정확하다/Adjective', '알아보다/Verb', '위/Noun', '하다/Verb', '비용/Noun', '에/Josa', '대한/Noun', '수/Modifier', '리모/Noun', '\\n\\n/Foreign', '델/Noun', '을/Josa', '만들다/Verb', '이/Noun', '에/Josa', '따르다/Verb', '비용/Noun', '발생/Noun', '여부/Noun', '를/Josa', '알아보다/Verb', '하자/Noun', './Punctuation', '모델/Noun', '에/Josa', '사/Noun', '\\n\\n/Foreign', '용/Noun', '되다/Verb', '변수/Noun', '를/Josa', '다음/Noun', '과/Josa', '같이/Adverb', '정의/Noun', '하다/Verb', './Punctuation', '\\n\\n/Foreign', '발생/Noun', '비용/Noun', ':/Punctuation', 'N/Alpha', '×/Foreign', 'p/Alpha', '×/Foreign', 'X/Alpha', '+/Punctuation', 'N/Alpha', '×/Foreign', '육아휴직/Noun', '급/Suffix', '여/Josa', '액/Noun', '-/Punctuation', 'N/Alpha', '×/Foreign', 'P/Alpha', '\\n\\n/Foreign', 'N/Alpha', '\\n\\n/Foreign', 'P/Alpha', '\\n\\n/Foreign', ':/Punctuation', '육아휴직/Noun', '대상자/Noun', '의/Josa', '수/Noun', '\\n\\n/Foreign', ':/Punctuation', '육아휴직/Noun', '대상자/Noun', '의/Josa', '월급/Noun', '여/Josa', '액/Noun', '\\n\\n\\x0c/Foreign', 'p/Alpha', '\\n\\n/Foreign', 'X/Alpha', '\\n\\n/Foreign', ':/Punctuation', '육아휴직/Noun', '자/Suffix', '가/Josa', '발생/Noun', '한/Josa', '경우/Noun', '대체/Noun', '고용/Noun', '하다/Verb', '확률/Noun', '\\n\\n/Foreign', ':/Punctuation', '대체/Noun', '고용/Noun', '한/Josa', '인력/Noun', '에게/Josa', '지급/Noun', '하다/Verb', '월급/Noun', '여/Josa', '액/Noun', '\\n\\n/Foreign', '위/Noun', '의/Josa', '수식/Noun', '에서/Josa', '육아휴직/Noun', '급/Suffix', '여/Josa', '액/Noun', '은/Josa', '육아휴직/Noun', '자/Suffix', '월급/Noun', '여/Josa', '액/Noun', '의/Josa', '40%/Number', '까지/Josa', '지다/Verb', '\\n\\n/Foreign', '급하다/Adjective', '예정/Noun', '이/Josa', '므/Noun', '로/Josa', '육아휴직/Noun', '급/Suffix', '여/Josa', '액/Noun', '은/Josa', 'P/Alpha', '×/Foreign', '40%/Number', '이다/Josa', './Punctuation', '육아휴직/Noun', '자/Suffix', '가/Josa', '발생/Noun', '한/Josa', '경우/Noun', '대체/Noun', '고용/Noun', '하다/Verb', '확률/Noun', 'p/Alpha', '늘다/Verb', '고용노동부/Noun', '의/Josa', '육아휴직/Noun', '관련/Noun', '자료/Noun', '를/Josa', '이용/Noun', '\\n\\n/Foreign', '하다/Verb', './Punctuation', '고용노동부/Noun', '에/Josa', '따르다/Verb', '2011년/Number', '의/Foreign', '경우/Noun', '육아휴직/Noun', '급여/Noun', '대상자/Noun', '는/Josa', '40,923/Number', '명/Noun', '이며/Josa', ',/Punctuation', '육아휴직/Noun', '에/Josa', '따르다/Verb', '대/Modifier', '체인/Noun', '력/Suffix', '고용/Noun', '예/Modifier', '상인/Noun', '원/Suffix', '은/Josa', '2,836/Number', '명/Noun', '이/Josa', '\\n\\n/Foreign', '다/Adverb', './Punctuation', '2007년/Number', '부터/Foreign', '2011년/Number', '까지의/Foreign', '현황/Noun', '을/Josa', '정리/Noun', '하다/Verb', '다음/Noun', '의/Josa', '[/Punctuation', '표/Noun', ']/Punctuation', '오다/Verb', '같다/Adjective', './Punctuation', '\\n\\n/Foreign', '[/Punctuation', '표/Noun', ']/Punctuation', '육아휴직/Noun', '급여/Noun', '수급/Noun', '자/Suffix', '의/Josa', '수/Noun', '및/Noun', '대/Modifier', '체인/Noun', '력/Suffix', '고용/Noun', '현황/Noun', ':/Punctuation', '2007~2011년/Number', '\\n\\n/Foreign', '(/Punctuation', '단위/Noun', ':/Punctuation', '명/Noun', ',/Punctuation', '%/Punctuation', ')/Punctuation', '\\n\\n/Foreign', '2007/Number', '\\n\\n/Foreign', '2008/Number', '\\n\\n/Foreign', '2009/Number', '\\n\\n/Foreign', '2010/Number', '\\n\\n/Foreign', '2011/Number', '\\n\\n/Foreign', '평균/Noun', '\\n\\n/Foreign', '육아휴직/Noun', '급여/Noun', '수급/Noun', '자/Suffix', '(/Punctuation', 'A/Alpha', ')/Punctuation', '\\n\\n/Foreign', '21,185/Number', '\\n\\n/Foreign', '29,145/Number', '\\n\\n/Foreign', '35,400/Number', '\\n\\n/Foreign', '41,291/Number', '\\n\\n/Foreign', '43,899/Number', '\\n\\n/Foreign', '34,184/Number', '\\n\\n/Foreign', '대/Modifier', '체인/Noun', '력/Suffix', '채용/Noun', '(/Punctuation', 'B/Alpha', ')/Punctuation', '\\n\\n/Foreign', '796/Number', '\\n\\n/Foreign', '1,658/Number', '\\n\\n/Foreign', '1,957/Number', '\\n\\n/Foreign', '2,396/Number', '\\n\\n/Foreign', '2,836/Number', '\\n\\n/Foreign', '1,929/Number', '\\n\\n/Foreign', '비/Noun', '율/Noun', '(/Punctuation', 'B/Alpha', '//Punctuation', 'A/Alpha', ')/Punctuation', '\\n\\n/Foreign', '3.8/Number', '\\n\\n/Foreign', '5.7/Number', '\\n\\n/Foreign', '5.5/Number', '\\n\\n/Foreign', '5.8/Number', '\\n\\n/Foreign', '6.5/Number', '\\n\\n/Foreign', '5.6/Number', '\\n\\n/Foreign', '자료/Noun', ':/Punctuation', '고용노동부/Noun', '자료/Noun', '를/Josa', '바탕/Noun', '으로/Josa', '국회예산정책처/Noun', '작성/Noun', '\\n\\n/Foreign', '위/Noun', '의/Josa', '[/Punctuation', '표/Noun', ']/Punctuation', '의/Noun', '자료/Noun', '에/Josa', '따르다/Verb', '육아휴직/Noun', '자/Suffix', '가/Josa', '발생/Noun', '한/Josa', '경우/Noun', '대체/Noun', '고용/Noun', '하다/Verb', '확률/Noun', 'p/Alpha', '의/Noun', '값/Noun', '은/Josa', '5.6%/Number', '라고/Josa', '가정/Noun', '하다/Verb', './Punctuation', '그리고/Conjunction', '비용/Noun', '이/Josa', '발생/Noun', '하다/Verb', '가정/Noun', '하다/Verb', '위/Noun', '\\n\\n/Foreign', '의/Noun', '수식/Noun', '을/Josa', '다시/Noun', '작성/Noun', '하다/Verb', '다음/Noun', '의/Josa', '수식/Noun', '과/Josa', '같다/Adjective', './Punctuation', '\\n\\n/Foreign', 'N/Alpha', '×/Foreign', 'p/Alpha', '×/Foreign', 'X/Alpha', '+/Punctuation', 'N/Alpha', '×/Foreign', '육아휴직/Noun', '급/Suffix', '여/Josa', '액/Noun', '-/Punctuation', 'N/Alpha', '×/Foreign', 'P/Alpha', '>/Punctuation', '0/Number', '\\n\\n/Foreign', '(/Punctuation', '1/Number', ')/Punctuation', '\\n\\n/Foreign', '-/Punctuation', '9/Number', '-/Punctuation', '\\n\\n\\x0c/Foreign', '-/Punctuation', '10/Number', '-/Punctuation', '\\n\\n/Foreign', 'N/Alpha', '×/Foreign', '5.6%/Number', '×/Foreign', 'X/Alpha', '+/Punctuation', 'N/Alpha', '×/Foreign', 'P/Alpha', '×/Foreign', '40%/Number', '-/Punctuation', 'N/Alpha', '×/Foreign', 'P/Alpha', '>/Punctuation', '0/Number', '\\n\\n/Foreign', '0.056/Number', '×/Foreign', 'X/Alpha', '>/Punctuation', '0.6/Number', 'P/Alpha', '\\n\\n/Foreign', 'X/Alpha', '>/Punctuation', '10.7/Number', '×/Foreign', 'P/Alpha', '\\n\\n/Foreign', '(/Punctuation', '2/Number', ')/Punctuation', '\\n\\n/Foreign', '(/Punctuation', '3/Number', ')/Punctuation', '\\n\\n/Foreign', '(/Punctuation', '5/Number', ')/Punctuation', '\\n\\n/Foreign', '위/Noun', '의/Josa', '수식/Noun', '에/Josa', '육아휴직/Noun', '자/Suffix', '가/Josa', '받다/Verb', '월/Noun', '급여/Noun', '액/Noun', '을/Josa', '대입/Noun', '하다/Verb', '대체/Noun', '고용/Noun', '인력/Noun', '\\n\\n/Foreign', '자/Noun', '에게/Josa', '지급/Noun', '하다/Verb', '월/Noun', '급여/Noun', '액/Noun', '을/Josa', '추정/Noun', '하다/Verb', '보다/Verb', './Punctuation', '육아휴직/Noun', '자/Suffix', '가/Josa', '월/Noun', '200만/Number', '\\n\\n/Foreign', '원/Noun', '을/Josa', '받다/Verb', '가정/Noun', '하다/Verb', ',/Punctuation', '대체/Noun', '고용/Noun', '인력/Noun', '자/Suffix', '에게/Josa', '육아휴직/Noun', '자/Suffix', '가/Josa', '받다/Verb', '월/Noun', '급여/Noun', '액/Noun', '의/Josa', '10.7/Number', '배/Noun', '에/Josa', '달/Noun', '하다/Verb', '월/Noun', '21,428,571원/Number', '이상/Noun', '을/Josa', '지급/Noun', '하다/Verb', '추가/Noun', '비용/Noun', '\\n\\n/Foreign', '이/Noun', '발생/Noun', '하다/Verb', './Punctuation', '대체/Noun', '고용/Noun', '인력/Noun', '자/Suffix', '에게/Josa', '육아휴직/Noun', '자/Suffix', '보다/Josa', '더/Noun', '많다/Adjective', '월급/Noun', '여/Josa', '액/Noun', '을/Josa', '주지/Noun', '는/Josa', '않다/Verb', '것/Noun', '이고/Josa', '그리고/Conjunction', '10/Number', '여/Modifier', '배/Noun', '이상/Noun', '월급/Noun', '을/Josa', '주지/Noun', '도/Josa', '않다/Verb', '것/Noun', '이기/Noun', '때문/Noun', '에/Josa', '추가/Noun', '비용/Noun', '이/Josa', '발생/Noun', '하다/Verb', '보기/Noun', '힘들다/Adjective', './Punctuation', '위/Noun', '의/Josa', '수식/Noun', '에서/Josa', '대/Modifier', '체인/Noun', '력/Suffix', '고용/Noun', '확률/Noun', 'p/Alpha', '를/Noun', '20%/Number', '로/Noun', '가정/Noun', '하다/Verb', '(/Punctuation', '이/Noun', '경우/Noun', 'X/Alpha', '>/Punctuation', '3/Number', '×/Foreign', 'P/Alpha', ')/Punctuation', '200만원/Number', '받다/Verb', '육아휴직/Noun', '자/Suffix', '대/Modifier', '체인/Noun', '력/Suffix', '에게/Josa', '월/Noun', '600만원/Number', '이상/Noun', '을/Josa', '지급/Noun', '하다/Verb', '추가/Noun', '비용/Noun', '이/Josa', '발생/Noun', '하다/Verb', './Punctuation', '\\n\\n/Foreign', '행정안전부/Noun', '의/Josa', '통계/Noun', '자료/Noun', '(/Punctuation', '행정안전부/Noun', '통계/Noun', '연감/Noun', ')/Punctuation', '에서는/Josa', '지방/Noun', '공무원/Noun', '의/Josa', '육/Noun', '\\n\\n/Foreign', '아/Exclamation', '휴직/Noun', '현황/Noun', '자료/Noun', '를/Josa', '보여주다/Verb', '있다/Adjective', './Punctuation', '여기/Noun', '서/Josa', '육아휴직/Noun', '자/Suffix', '가/Josa', '발생/Noun', '한/Josa', '경우/Noun', '대/Modifier', '체인/Noun', '력/Suffix', '을/Josa', '주로/Noun', '임용/Noun', '대/Modifier', '기자/Noun', '또는/Adverb', '일용직/Noun', '을/Josa', '활용/Noun', '하다/Verb', '것/Noun', '으로/Josa', '보이다/Verb', './Punctuation', '따라서/Noun', '공무원/Noun', '의/Josa', '경우/Noun', '에도/Josa', '[/Punctuation', '표/Noun', ']/Punctuation', '에서/Josa', '보여주다/Verb', '일/Modifier', '반/Modifier', '기업체/Noun', '의/Josa', '대/Modifier', '체인/Noun', '력/Suffix', '고용/Noun', '확률/Noun', '과/Josa', '차이다/Verb', '크다/Verb', '않다/Verb', '것/Noun', '으로/Josa', '보이다/Verb', './Punctuation', '\\n\\n/Foreign', '이상/Noun', '의/Josa', '논의/Noun', '를/Josa', '바탕/Noun', '으로/Josa', '육아휴직/Noun', '기간/Noun', '을/Josa', '만/Noun', '6/Number', '에서/Josa', '만/Noun', '8/Number', '세로/Noun', '연장/Noun', '하다/Verb', '\\n\\n/Foreign', '도/Noun', '법률/Noun', '개정/Noun', '에/Josa', '따르다/Verb', '추가/Noun', '비용/Noun', '은/Josa', '발생/Noun', '하다/Verb', '않다/Verb', '것/Noun', '으로/Josa', '예상/Noun', '되다/Verb', './Punctuation', '\\n\\n\\x0c/Foreign', '4/Number', './Punctuation', '작성자/Noun', '\\n\\n/Foreign', '국회예산정책처/Noun', '법안/Noun', '비용/Noun', '추계/Noun', '1/Number', '팀/Noun', '\\n\\n/Foreign', '팀/Noun', '장/Noun', '정/Noun', '문/Noun', '종/Noun', '\\n\\n/Foreign', '예산/Noun', '분석관/Noun', '김/Noun', '태/Noun', '완/Noun', '\\n\\n/Foreign', '(/Punctuation', '02-788/Number', '-/Punctuation', '4649/Number', ',/Punctuation', 'tanzania@assembly.go.kr/Email', ')/Punctuation', '\\n\\n/Foreign', '-/Punctuation', '11/Number', '-/Punctuation', '\\n\\n\\x0c/Foreign']\n"
     ]
    }
   ],
   "source": [
    "from konlpy.tag import Twitter; t = Twitter()\n",
    "pos = lambda d: ['/'.join(p) for p in t.pos(d, stem=True, norm=True)]\n",
    "texts_ko = [pos(doc) for doc in docs_ko]\n",
    "print(texts_ko[0])"
   ]
  },
  {
   "cell_type": "markdown",
   "metadata": {},
   "source": [
    "3. Encode tokens to integers"
   ]
  },
  {
   "cell_type": "markdown",
   "metadata": {},
   "source": [
    "English"
   ]
  },
  {
   "cell_type": "code",
   "execution_count": 9,
   "metadata": {},
   "outputs": [],
   "source": [
    "from gensim import corpora\n",
    "dictionary_en = corpora.Dictionary(texts_en)\n",
    "dictionary_en.save('en.dict')  # save dictionary to file for future use"
   ]
  },
  {
   "cell_type": "markdown",
   "metadata": {},
   "source": [
    "Korean"
   ]
  },
  {
   "cell_type": "code",
   "execution_count": 10,
   "metadata": {},
   "outputs": [],
   "source": [
    "from gensim import corpora\n",
    "dictionary_ko = corpora.Dictionary(texts_ko)\n",
    "dictionary_ko.save('ko.dict')  # save dictionary to file for future use"
   ]
  },
  {
   "cell_type": "markdown",
   "metadata": {},
   "source": [
    "4. Calculate TF-IDF"
   ]
  },
  {
   "cell_type": "markdown",
   "metadata": {},
   "source": [
    "English"
   ]
  },
  {
   "cell_type": "code",
   "execution_count": 11,
   "metadata": {},
   "outputs": [
    {
     "name": "stdout",
     "output_type": "stream",
     "text": [
      "[(0, 7), (1, 3), (2, 13), (3, 2), (4, 1), (5, 1), (6, 20), (7, 6), (8, 10), (9, 62)]\n",
      "[(9, 62), (363, 32), (276, 30), (371, 26), (6, 20), (96, 19), (112, 19), (326, 16), (118, 14), (2, 13)]\n",
      ".\n"
     ]
    }
   ],
   "source": [
    "from gensim import models\n",
    "tf_en = [dictionary_en.doc2bow(text) for text in texts_en]\n",
    "tfidf_model_en = models.TfidfModel(tf_en)\n",
    "tfidf_en = tfidf_model_en[tf_en]\n",
    "corpora.MmCorpus.serialize('en.mm', tfidf_en) # save corpus to file for future use\n",
    "\n",
    "# print first 10 elements of first document's tf-idf vector\n",
    "print(tfidf_en.corpus[0][:10])\n",
    "# print top 10 elements of first document's tf-idf vector\n",
    "print(sorted(tfidf_en.corpus[0], key=lambda x: x[1], reverse=True)[:10])\n",
    "# print token of most frequent element\n",
    "print(dictionary_en.get(9))"
   ]
  },
  {
   "cell_type": "markdown",
   "metadata": {},
   "source": [
    "Korean"
   ]
  },
  {
   "cell_type": "code",
   "execution_count": 12,
   "metadata": {},
   "outputs": [
    {
     "name": "stdout",
     "output_type": "stream",
     "text": [
      "[(0, 8), (1, 12), (2, 1), (3, 127), (4, 1), (5, 3), (6, 1), (7, 27), (8, 1), (9, 26)]\n",
      "[(3, 127), (437, 60), (20, 49), (330, 38), (336, 37), (334, 28), (7, 27), (9, 26), (289, 22), (374, 22)]\n",
      "초등학교/Noun\n"
     ]
    }
   ],
   "source": [
    "from gensim import models\n",
    "tf_ko = [dictionary_ko.doc2bow(text) for text in texts_ko]\n",
    "tfidf_model_ko = models.TfidfModel(tf_ko)\n",
    "tfidf_ko = tfidf_model_ko[tf_ko]\n",
    "corpora.MmCorpus.serialize('ko.mm', tfidf_ko) # save corpus to file for future use\n",
    "\n",
    "# print first 10 elements of first document's tf-idf vector\n",
    "print(tfidf_ko.corpus[0][:10])\n",
    "# print top 10 elements of first document's tf-idf vector\n",
    "print(sorted(tfidf_ko.corpus[0], key=lambda x: x[1], reverse=True)[:10])\n",
    "# print token of most frequent element\n",
    "print(dictionary_ko.get(414))"
   ]
  },
  {
   "cell_type": "markdown",
   "metadata": {},
   "source": [
    "# 2. Train topic models"
   ]
  },
  {
   "cell_type": "markdown",
   "metadata": {},
   "source": [
    "1. LDA"
   ]
  },
  {
   "cell_type": "markdown",
   "metadata": {},
   "source": [
    "English"
   ]
  },
  {
   "cell_type": "code",
   "execution_count": 16,
   "metadata": {},
   "outputs": [],
   "source": [
    "ntopics, nwords = 3, 5"
   ]
  },
  {
   "cell_type": "code",
   "execution_count": 17,
   "metadata": {},
   "outputs": [
    {
     "name": "stdout",
     "output_type": "stream",
     "text": [
      "[(0, '0.005*\"the\" + 0.003*\"pct\" + 0.003*\"to\" + 0.003*\"in\" + 0.003*\"of\"'), (1, '0.005*\"cts\" + 0.005*\"Record\" + 0.005*\"div\" + 0.005*\"Pay\" + 0.004*\"Qtly\"'), (2, '0.010*\"vs\" + 0.006*\"000\" + 0.006*\"mln\" + 0.005*\"loss\" + 0.005*\"cts\"')]\n"
     ]
    }
   ],
   "source": [
    "import numpy as np; np.random.seed(42)  # optional\n",
    "lda_en = models.ldamodel.LdaModel(tfidf_en, id2word=dictionary_en, num_topics=ntopics)\n",
    "print(lda_en.print_topics(num_topics=ntopics, num_words=nwords))"
   ]
  },
  {
   "cell_type": "markdown",
   "metadata": {},
   "source": [
    "Korean"
   ]
  },
  {
   "cell_type": "code",
   "execution_count": 18,
   "metadata": {},
   "outputs": [
    {
     "name": "stdout",
     "output_type": "stream",
     "text": [
      "[(0, '0.003*\"육아휴직/Noun\" + 0.002*\"만/Noun\" + 0.001*\"×/Foreign\" + 0.001*\"고용/Noun\" + 0.001*\"예고/Noun\"'), (1, '0.002*\"육아휴직/Noun\" + 0.001*\"손해/Noun\" + 0.001*\"사업자/Noun\" + 0.001*\"×/Foreign\" + 0.001*\"자녀/Noun\"'), (2, '0.001*\"파견/Noun\" + 0.001*\"부대/Noun\" + 0.001*\"결혼/Noun\" + 0.001*\"소말리아/Noun\" + 0.001*\"\\n\\n    /Foreign\"')]\n"
     ]
    }
   ],
   "source": [
    "import numpy as np; np.random.seed(42)  # optional\n",
    "lda_ko = models.ldamodel.LdaModel(tfidf_ko, id2word=dictionary_ko, num_topics=ntopics)\n",
    "print(lda_ko.print_topics(num_topics=ntopics, num_words=nwords))"
   ]
  },
  {
   "cell_type": "markdown",
   "metadata": {},
   "source": [
    "# 3. Scoring documents"
   ]
  },
  {
   "cell_type": "markdown",
   "metadata": {},
   "source": [
    "English"
   ]
  },
  {
   "cell_type": "code",
   "execution_count": 20,
   "metadata": {},
   "outputs": [
    {
     "data": {
      "text/plain": [
       "[(2, 0.8003078), (0, 0.1792411), (1, 0.020451067)]"
      ]
     },
     "execution_count": 20,
     "metadata": {},
     "output_type": "execute_result"
    }
   ],
   "source": [
    "bow = tfidf_model_en[dictionary_en.doc2bow(texts_en[0])]\n",
    "sorted(lda_en[bow], key=lambda x: x[1], reverse=True)"
   ]
  },
  {
   "cell_type": "code",
   "execution_count": 21,
   "metadata": {},
   "outputs": [
    {
     "data": {
      "text/plain": [
       "[(0, 0.7392981), (2, 0.21646468), (1, 0.04423724)]"
      ]
     },
     "execution_count": 21,
     "metadata": {},
     "output_type": "execute_result"
    }
   ],
   "source": [
    "bow = tfidf_model_en[dictionary_en.doc2bow(texts_en[1])]\n",
    "sorted(lda_en[bow], key=lambda x: x[1], reverse=True)"
   ]
  },
  {
   "cell_type": "markdown",
   "metadata": {},
   "source": [
    "Korean"
   ]
  },
  {
   "cell_type": "code",
   "execution_count": 22,
   "metadata": {},
   "outputs": [
    {
     "data": {
      "text/plain": [
       "[(0, 0.93739796), (1, 0.03285161), (2, 0.02975037)]"
      ]
     },
     "execution_count": 22,
     "metadata": {},
     "output_type": "execute_result"
    }
   ],
   "source": [
    "bow = tfidf_model_ko[dictionary_ko.doc2bow(texts_ko[0])]\n",
    "sorted(lda_ko[bow], key=lambda x: x[1], reverse=True)"
   ]
  },
  {
   "cell_type": "code",
   "execution_count": 23,
   "metadata": {},
   "outputs": [
    {
     "data": {
      "text/plain": [
       "[(0, 0.93692136), (1, 0.03301964), (2, 0.030058995)]"
      ]
     },
     "execution_count": 23,
     "metadata": {},
     "output_type": "execute_result"
    }
   ],
   "source": [
    "bow = tfidf_model_ko[dictionary_ko.doc2bow(texts_ko[1])]\n",
    "sorted(lda_ko[bow], key=lambda x: x[1], reverse=True)"
   ]
  },
  {
   "cell_type": "code",
   "execution_count": null,
   "metadata": {},
   "outputs": [],
   "source": []
  },
  {
   "cell_type": "code",
   "execution_count": null,
   "metadata": {},
   "outputs": [],
   "source": []
  }
 ],
 "metadata": {
  "kernelspec": {
   "display_name": "Python 3",
   "language": "python",
   "name": "python3"
  },
  "language_info": {
   "codemirror_mode": {
    "name": "ipython",
    "version": 3
   },
   "file_extension": ".py",
   "mimetype": "text/x-python",
   "name": "python",
   "nbconvert_exporter": "python",
   "pygments_lexer": "ipython3",
   "version": "3.7.3"
  }
 },
 "nbformat": 4,
 "nbformat_minor": 2
}
